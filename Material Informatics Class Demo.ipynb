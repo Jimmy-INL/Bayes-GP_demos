{
 "cells": [
  {
   "cell_type": "markdown",
   "metadata": {
    "deletable": true,
    "editable": true
   },
   "source": [
    "# 1.1 Structure\n",
    "\n",
    "#### Parametric Methods\n",
    "* Linear Regression\n",
    "* Bayesian Linear Regression\n",
    "\n",
    "#### Nonparametric Methods\n",
    "* Interpolation\n",
    "* Gaussian Processes\n"
   ]
  },
  {
   "cell_type": "code",
   "execution_count": 1,
   "metadata": {
    "collapsed": false,
    "deletable": true,
    "editable": true
   },
   "outputs": [],
   "source": [
    "import LinearRegression as LR\n",
    "import BayesianLinearRegression as BLR\n",
    "import Interpolation as interp\n",
    "import GaussianProcessRegression as GP\n",
    "import matplotlib.pyplot as plt\n",
    "import numpy as np"
   ]
  },
  {
   "cell_type": "code",
   "execution_count": 2,
   "metadata": {
    "collapsed": true,
    "deletable": true,
    "editable": true
   },
   "outputs": [],
   "source": [
    "import imp"
   ]
  },
  {
   "cell_type": "markdown",
   "metadata": {
    "deletable": true,
    "editable": true
   },
   "source": [
    "# 2.1 Parametric Models\n",
    "* Models which the number of parameters are fixed (complexity is fixed)\n",
    "    * Linear Regresson\n",
    "    * Bayesian Linear Regression"
   ]
  },
  {
   "cell_type": "markdown",
   "metadata": {
    "deletable": true,
    "editable": true
   },
   "source": [
    "## 2.2 Linear Regression\n",
    "* We have N observed values enumerated by i, which we will call $y_i$, at locations $x_i$\n",
    "* Goal: Build a model with a set number of parameters, i.e. parametric\n",
    "* We want to minimize the sum of the squares of the residuals between a model we define, and the observed values, i.e. Least Squares Regression\n",
    "* Example, simple polynomial model\n",
    "\\begin{align}\n",
    "f(x) = \\sum_{j=0}^d w_j x^j\n",
    "\\end{align}\n",
    "* We minimize the sum of the squares of the residuals between $y_i$ and $f(x)$ with respect to our model weights\n",
    "\\begin{align}\n",
    "SSE=\\sum_i^N (y_i - f(x_i))^2\n",
    "\\end{align}"
   ]
  },
  {
   "cell_type": "code",
   "execution_count": 3,
   "metadata": {
    "collapsed": false,
    "deletable": true,
    "editable": true
   },
   "outputs": [
    {
     "data": {
      "image/png": "[encoded data removed]",
      "text/plain": [
       "<matplotlib.figure.Figure at 0x108dffad0>"
      ]
     },
     "execution_count": 3,
     "metadata": {},
     "output_type": "execute_result"
    }
   ],
   "source": [
    "import class_demos\n",
    "imp.reload(class_demos)\n",
    "imp.reload(LR)\n",
    "\n",
    "## Load Function\n",
    "f1=class_demos.linearmodel()\n",
    "\n",
    "## Evaluate linear model\n",
    "N=20\n",
    "xtrain=np.linspace(0,1,N)\n",
    "ytrain=f1(xtrain)\n",
    "\n",
    "## Build Linear Regression Model\n",
    "d=1                  #degree of polynomial\n",
    "LRmodel=LR.regress() #Load Model\n",
    "LRmodel.polybasis(d=d) #set d, the degree of the polynomial, in this case we have a linear model\n",
    "\n",
    "## Clean Data\n",
    "LRmodel.traindata(xtrain,ytrain)\n",
    "LRmodel.trainmodel()\n",
    "LRmodel.model\n",
    "LRmodel.plot()"
   ]
  },
  {
   "cell_type": "code",
   "execution_count": 4,
   "metadata": {
    "collapsed": false,
    "deletable": true,
    "editable": true
   },
   "outputs": [
    {
     "data": {
      "text/plain": [
       "array([[0.4],\n",
       "       [1. ]])"
      ]
     },
     "execution_count": 4,
     "metadata": {},
     "output_type": "execute_result"
    }
   ],
   "source": [
    "np.sum((LRmodel.eval(xtrain)-f1(xtrain))**2)/len(xtrain)\n",
    "LRmodel.model"
   ]
  },
  {
   "cell_type": "markdown",
   "metadata": {
    "deletable": true,
    "editable": true
   },
   "source": [
    "## 2.3 Noisy Data\n",
    "Now imagine the case in which our data is not perfect, i.e., there is some uncertainty due to experimental setup/simulation mesh etc. We can describe observations as realizations from an analytical model with added noise\n",
    "\\begin{align}\n",
    "y_i = f(x_i) + \\epsilon_i\n",
    "\\end{align}\n",
    "\n",
    "\\begin{align}\n",
    "\\epsilon_i \\sim \\mathcal{N}(0,\\beta^{-1})\n",
    "\\end{align}"
   ]
  },
  {
   "cell_type": "code",
   "execution_count": 5,
   "metadata": {
    "collapsed": false,
    "deletable": true,
    "editable": true
   },
   "outputs": [
    {
     "data": {
      "image/png": "[encoded data removed]",
      "text/plain": [
       "<matplotlib.figure.Figure at 0x10b9d2ed0>"
      ]
     },
     "metadata": {},
     "output_type": "display_data"
    }
   ],
   "source": [
    "plt.close(\"all\")\n",
    "## Generate Noisy Data for a linear model\n",
    "# sigma is the variance, describing how noisy the data is\n",
    "N=20\n",
    "sigma=0.001\n",
    "f2=class_demos.noisylinearmodel(sigma=sigma)\n",
    "xtrain=np.linspace(0,1,N)\n",
    "ytrain=f2(xtrain)\n",
    "\n",
    "## Plot Figure\n",
    "fig=plt.figure()\n",
    "ax=fig.add_subplot(111)\n",
    "ax.scatter(xtrain,ytrain)\n",
    "plt.show(fig)"
   ]
  },
  {
   "cell_type": "markdown",
   "metadata": {
    "deletable": true,
    "editable": true
   },
   "source": [
    "* We can of course still build a regressive model from this data as follows"
   ]
  },
  {
   "cell_type": "code",
   "execution_count": 6,
   "metadata": {
    "collapsed": false,
    "deletable": true,
    "editable": true
   },
   "outputs": [
    {
     "data": {
      "text/plain": [
       "array([[0.39616428],\n",
       "       [1.01656824]])"
      ]
     },
     "execution_count": 6,
     "metadata": {},
     "output_type": "execute_result"
    }
   ],
   "source": [
    "plt.close(\"all\")\n",
    "## Build a linear model\n",
    "LRmodeln=LR.regress() #load model\n",
    "LRmodeln.polybasis(1) #set degree of polynomial\n",
    "LRmodeln.traindata(xtrain,ytrain)\n",
    "LRmodeln.trainmodel()\n",
    "LRmodeln.model\n"
   ]
  },
  {
   "cell_type": "code",
   "execution_count": 7,
   "metadata": {
    "collapsed": false,
    "deletable": true,
    "editable": true
   },
   "outputs": [
    {
     "data": {
      "image/png": "[encoded data removed]",
      "text/plain": [
       "<matplotlib.figure.Figure at 0x10bbba990>"
      ]
     },
     "execution_count": 7,
     "metadata": {},
     "output_type": "execute_result"
    }
   ],
   "source": [
    "LRmodeln.plot()"
   ]
  },
  {
   "cell_type": "code",
   "execution_count": 147,
   "metadata": {
    "collapsed": false,
    "deletable": true,
    "editable": true
   },
   "outputs": [
    {
     "data": {
      "text/plain": [
       "0.00078930179035017665"
      ]
     },
     "execution_count": 147,
     "metadata": {},
     "output_type": "execute_result"
    }
   ],
   "source": [
    "np.sum((LRmodel.eval(xtrain)-f2(xtrain))**2)/len(xtrain)"
   ]
  },
  {
   "cell_type": "markdown",
   "metadata": {
    "deletable": true,
    "editable": true
   },
   "source": [
    "* I want to be able to put bounds on this model however, that is, quantify how certain is my model for the given data. \n",
    "* Bayesian linear regression gives us a framework to do just that."
   ]
  },
  {
   "cell_type": "markdown",
   "metadata": {
    "deletable": true,
    "editable": true
   },
   "source": [
    "## 2.4 Bayesian Linear Regression\n",
    "* $N$ Observations enumerated by $i$ are realizations of an analytical model with added noise\n",
    "\\begin{align}\n",
    "y_i = f(x_i) + \\epsilon_i\n",
    "\\end{align}\n",
    "\\begin{align}\n",
    "f(x)= \\sum_{j=0}^d w_j x^j\n",
    "\\end{align}\n",
    "\n",
    "* Note, for ease, d=1, for a linear model, can increase degree or use different basis functions\n",
    "* The realizations from the model are i.i.d. :\n",
    "    Independent and Identically Distributed, like flipping a coin!\n",
    "\\begin{align}\n",
    "\\epsilon_i \\sim \\mathcal{N}(0,\\beta^{-1})\n",
    "\\end{align}\n",
    "* This naturally gives rise to the likelihood of the  given training data, with a \"known\" analytical model\n",
    "\\begin{align}\n",
    "p(\\pmb{y}|\\pmb{X},\\pmb{w},\\beta)= \\prod_{i=1}^N \\mathcal{N} (y_i|\\pmb{w}^T\\pmb{x}_i,\\beta^{-1})\n",
    "\\end{align}\n",
    "\n",
    "\\begin{align}\n",
    "\\text{where, }\\pmb{X}=X_{ij}=x_i^j \\text{  (for polynomial basis)}\n",
    "\\end{align}\n",
    "\n",
    "* By introducing a prior over the weights of the analytical model we can apply bayes theorem than cast the problem as obtaining the posterior distribution of the model weights given the data, and the distributions for the respective likelihood and prior\n",
    "\n",
    "\\begin{align}\n",
    "\\pmb{Posterior}= \\frac{\\pmb{Likelihood} * \\pmb{Prior}}\n",
    "{\\pmb{Marginal Distribution}}\n",
    "\\end{align}\n",
    "\n",
    "Prior:\n",
    "\\begin{align}\n",
    "p(\\pmb{w}|\\alpha) \\sim \\mathcal{N}(0,\\alpha^{-1}\\pmb{I})\n",
    "\\end{align}\n",
    "\n",
    "Posterior:\n",
    "\\begin{align}\n",
    "p(\\pmb{w}|\\pmb{y},\\pmb{X},\\beta,\\alpha)= \\frac{p(\\pmb{y}|\\pmb{X},\\pmb{w},\\beta)p(\\pmb{w}|\\alpha)}\n",
    "{p(\\pmb{y}|\\alpha,\\beta)}\n",
    "\\end{align}\n",
    "\n",
    "Marginal Distribution:\n",
    "\\begin{align}\n",
    "p(\\pmb{y}|\\alpha,\\beta) = \\int p(\\pmb{y}|\\pmb{X},\\pmb{w},\\beta)p(\\pmb{w}|\\alpha) d\\pmb{w}\n",
    "\\end{align}"
   ]
  },
  {
   "cell_type": "code",
   "execution_count": 22,
   "metadata": {
    "collapsed": false,
    "deletable": true,
    "editable": true
   },
   "outputs": [
    {
     "data": {
      "image/png": "[encoded data removed]",
      "text/plain": [
       "<matplotlib.figure.Figure at 0x10bff9790>"
      ]
     },
     "execution_count": 22,
     "metadata": {},
     "output_type": "execute_result"
    }
   ],
   "source": [
    "plt.close(\"all\")\n",
    "## Fitting with BLR\n",
    "imp.reload(BLR)\n",
    "BLmodel=BLR.bayesregress() #load model\n",
    "\n",
    "## Build model\n",
    "d=3        #degree of polynomial\n",
    "alpha=0.04 #precision of prior distribution\n",
    "beta=10     #precision of likelihood\n",
    "\n",
    "## Choose model type\n",
    "BLmodel.polybasis(d=d) #choose basis, and degree\n",
    "#BLmodel.rbfbasis(l=d,mu=[]) #choose basis, and degree\n",
    "BLmodel.traindata(xtrain,ytrain)\n",
    "\n",
    "## Set Hyper parameters and train\n",
    "BLmodel.sethyper(alpha=alpha,beta=beta)\n",
    "BLmodel.trainmodel()\n",
    "BLmodel.plot()"
   ]
  },
  {
   "cell_type": "code",
   "execution_count": 9,
   "metadata": {
    "collapsed": false,
    "deletable": true,
    "editable": true
   },
   "outputs": [
    {
     "data": {
      "text/plain": [
       "array([[0.3971721 ],\n",
       "       [1.01435402]])"
      ]
     },
     "execution_count": 9,
     "metadata": {},
     "output_type": "execute_result"
    }
   ],
   "source": [
    "BLmodel.model"
   ]
  },
  {
   "cell_type": "markdown",
   "metadata": {
    "deletable": true,
    "editable": true
   },
   "source": [
    "* Notice we introduce two parameters into the mix, $\\alpha$ which describes the prior distribution about our weights, and $\\beta$ which describes the distribution of the likelihood about the data given the model\n",
    "* We have to estimate these, but how do we do such?"
   ]
  },
  {
   "cell_type": "markdown",
   "metadata": {
    "deletable": true,
    "editable": true
   },
   "source": [
    "##  2.5 Empirical Bayes Estimate\n",
    "* By marginalizing over the weights in the above posterior distribution we can obtain the marginal distribution of the data given the hyper parameters\n",
    "* This marginal distribution is than used to in conjunction with bayes theorem observing the likelihood of the parameters given the data\n",
    "\n",
    "\\begin{align}\n",
    "p(\\alpha,\\beta|\\pmb{y}) \\propto p(\\pmb{y}|\\alpha,\\beta)p(\\alpha,\\beta)\n",
    "\\end{align}\n",
    "\n",
    "* Ultimately the goal becomes maximizing the likelihood of the data given the parameters.\n",
    "* Due to conjugate distributions analytical forms of marginalization can be found, and the parameters can than be estimated using bayes theorem (maximum likelihood estimation)"
   ]
  },
  {
   "cell_type": "code",
   "execution_count": 10,
   "metadata": {
    "collapsed": false,
    "deletable": true,
    "editable": true
   },
   "outputs": [
    {
     "data": {
      "text/plain": [
       "array([[0.39645953],\n",
       "       [1.01591983]])"
      ]
     },
     "execution_count": 10,
     "metadata": {},
     "output_type": "execute_result"
    }
   ],
   "source": [
    "plt.close(\"all\")\n",
    "for i in range(8): BLmodel.optimize()\n",
    "BLmodel.model"
   ]
  },
  {
   "cell_type": "code",
   "execution_count": 11,
   "metadata": {
    "collapsed": false,
    "deletable": true,
    "editable": true
   },
   "outputs": [
    {
     "data": {
      "image/png": "[encoded data removed]",
      "text/plain": [
       "<matplotlib.figure.Figure at 0x10bbce710>"
      ]
     },
     "execution_count": 11,
     "metadata": {},
     "output_type": "execute_result"
    }
   ],
   "source": [
    "fhat,var=BLmodel.eval(BLmodel.xtrain)\n",
    "BLmodel.plot()"
   ]
  },
  {
   "cell_type": "code",
   "execution_count": 12,
   "metadata": {
    "collapsed": false,
    "deletable": true,
    "editable": true
   },
   "outputs": [
    {
     "name": "stdout",
     "output_type": "stream",
     "text": [
      "[[1.38736833]]\n",
      "949.7592359368193\n"
     ]
    }
   ],
   "source": [
    "print(BLmodel.alpha)\n",
    "print(BLmodel.beta)"
   ]
  },
  {
   "cell_type": "markdown",
   "metadata": {
    "collapsed": true,
    "deletable": true,
    "editable": true
   },
   "source": [
    "####  BONUS! Connections\n",
    "* BLR can also be thought of as a form of regularization, (L1 L2 regulatization for e.g.) which conditions the model weights based off of the choosing of the $\\alpha$ and $\\beta$ hyperparameters, we can see this when we raise the polynomial degree and try to fit higher order models to the noisy linear model. \n",
    "* To Observe This\n",
    "    * Raise the noise of the data in section 2.3\n",
    "    * Fit a regression model using conventional least square approach with a polynomial of a higher degree (say d=3,4)\n",
    "    * Fit a BLR model in 2.4 with some initial alpha and beta parameters\n",
    "    * Experiment with high alpha small beta, high beta small beta\n",
    "    * Optimize the hyperparameters in section 2.5 than replot"
   ]
  },
  {
   "cell_type": "markdown",
   "metadata": {
    "collapsed": true,
    "deletable": true,
    "editable": true
   },
   "source": [
    "# 3.1 Non parametric models\n",
    "* Models which the number of parameters grow as the amount of data increases (complexity grows)    \n",
    "    * Interpolation\n",
    "    * Gaussian Processes"
   ]
  },
  {
   "cell_type": "markdown",
   "metadata": {
    "collapsed": true,
    "deletable": true,
    "editable": true
   },
   "source": [
    "## 3.2 Interpolation\n",
    "* Extension of generalized least squares regression requiring that the fitted line passes through the data points.\n",
    "* e.g. Lagrange Polynomials; formulated by solving coefficients from polynomial model as in 2.2 directly using set of equations equating to training points. Therefore need nth degree polynomial to fit n+1 points (accounting for constant term).\n",
    "* Explicit form of lagrange interpolation is as below\n",
    "\\begin{align}\n",
    "f(x)= \\sum_{i=0}^{N} y_ic_{i}\n",
    "\\end{align}\n",
    "\n",
    "\\begin{align}\n",
    "c_{i}= {\\displaystyle \\prod_{0\\leq j \\leq N, i \\neq j}} \\frac{x-x_j}{x_i-x_j}\n",
    "\\end{align}\n",
    "$i,j$ enumerates the $N$ available training data"
   ]
  },
  {
   "cell_type": "code",
   "execution_count": 29,
   "metadata": {
    "collapsed": true,
    "deletable": true,
    "editable": true
   },
   "outputs": [],
   "source": [
    "plt.close(\"all\")\n",
    "import class_demos\n",
    "imp.reload(interp)\n",
    "\n",
    "# Set Number of points to probe the function of interest\n",
    "N=2\n",
    "\n",
    "xtrain=np.linspace(0,1,N)      #choose training points\n",
    "f=class_demos.testfuncinterp() #load in mystery function\n",
    "ytrain=f(xtrain)               #evaluate the mystery function"
   ]
  },
  {
   "cell_type": "code",
   "execution_count": 30,
   "metadata": {
    "collapsed": false,
    "deletable": true,
    "editable": true
   },
   "outputs": [
    {
     "data": {
      "image/png": "[encoded data removed]",
      "text/plain": [
       "<matplotlib.figure.Figure at 0x10cc9ead0>"
      ]
     },
     "execution_count": 30,
     "metadata": {},
     "output_type": "execute_result"
    }
   ],
   "source": [
    "plt.close(\"all\")\n",
    "\n",
    "#Specify Model\n",
    "INTmodel=interp.interp()\n",
    "INTmodel.traindata(xtrain,ytrain)\n",
    "INTmodel.polybasis()           #use polynomial basis for interpolation\n",
    "\n",
    "#Plot the true function versus the interpolation between points \n",
    "INTmodel.interp()\n",
    "INTmodel.ftrue=f\n",
    "INTmodel.plottrue() "
   ]
  },
  {
   "cell_type": "markdown",
   "metadata": {
    "deletable": true,
    "editable": true
   },
   "source": [
    "## 3.3 Comparisons to other  interpolation methods\n",
    "* If we use a radial basis function centered about every single data point as our basis functions for interpolation, we have a natural extension to think of the GP framework\n",
    "\n",
    "* This can also be thought of as kernel regression using radial basis functions defined about every training point. Although, without the statistical framework methods such as cross validation must be used to estimate the hyperparameter, $l$, (this will not be done here). Also, without the statistical framework we loose the natural interpretation of uncertainty.\n",
    "\n",
    "* This is also known as a class of linear smoothers called Nadaraya-Watson Estimators (these do not need to interpolate, but for the sake of drawing comparisons we choose basis which interpolate data)\n",
    "\n",
    "Radial Basis Function:\n",
    "$k(x,x_i)=exp\\frac{(x-x_i)^2}{l}$\n",
    "\n",
    "$i$, enumerates the $N$ available training data"
   ]
  },
  {
   "cell_type": "code",
   "execution_count": 32,
   "metadata": {
    "collapsed": false,
    "deletable": true,
    "editable": true
   },
   "outputs": [
    {
     "data": {
      "image/png": "[encoded data removed]",
      "text/plain": [
       "<matplotlib.figure.Figure at 0x10cf15fd0>"
      ]
     },
     "execution_count": 32,
     "metadata": {},
     "output_type": "execute_result"
    }
   ],
   "source": [
    "plt.close(\"all\")\n",
    "import class_demos\n",
    "imp.reload(interp)\n",
    "f=class_demos.testfuncgp()\n",
    "\n",
    "## Specify number of points sampled\n",
    "n=2    #20 works well\n",
    "l=0.05  #0.005 works well\n",
    "\n",
    "## Generate Training data\n",
    "xtrain=np.linspace(0,1,n)\n",
    "ytrain=f(xtrain)\n",
    "\n",
    "## Specify Model, set hyperparameters\n",
    "INTmodel=interp.interp()\n",
    "INTmodel.traindata(xtrain,ytrain)\n",
    "INTmodel.rbfbasis(l=l)\n",
    "#INTmodel.polybasis()  #we can try this with polynomials as well to see how they do\n",
    "\n",
    "## Plot model\n",
    "INTmodel.interp()\n",
    "INTmodel.ftrue=f\n",
    "INTmodel.plottrue()"
   ]
  },
  {
   "cell_type": "markdown",
   "metadata": {
    "deletable": true,
    "editable": true
   },
   "source": [
    "* We can try different interpolation techniques to see how they perform in fitting the unknown function (orange). Try polynomial basis as well as rbfbasis to see how interpolation for this strange unknown function is."
   ]
  },
  {
   "cell_type": "markdown",
   "metadata": {
    "deletable": true,
    "editable": true
   },
   "source": [
    "## 3.4 Gaussian Processes\n",
    "* Non parametric model based on a similarity function\n",
    "* GPs provides us a tool for nonlinear interpolation which gives us confidence bounds \n",
    "* GPs also give us an expression in which we shift our focus to the optimization of hyperparameters\n",
    "* Formulas for prediction of the mean, and variance at a new location $x$ is given below\n",
    "\\begin{align}\n",
    "m (x)= k(x,x_i){C_{ij}}y_j\n",
    "\\end{align}\n",
    "\n",
    "\\begin{align}\n",
    "\\sigma^2 (x)= k(x,x)-k(x,x_i){C_{ij}}k(x,x_j)\n",
    "\\end{align}\n",
    "\n",
    "\\begin{align}\n",
    "k(x,x_i)=exp \\Big( -\\frac{||x-x_i||^2}{l} \\Big)\n",
    "\\end{align}\n",
    "\n",
    "\\begin{align}\n",
    "\\pmb{K} = K_{ij}=k(x_i,x_j)= exp \\Big( -\\frac{||x_i-x_j||^2}{l} \\Big)\n",
    "\\end{align}\n",
    "\n",
    "\\begin{align}\n",
    "\\pmb{C} = \\pmb{K}^{-1} = C_{ij}\n",
    "\\end{align}\n",
    "\n",
    "$i$,$j$ enumerates the $N$ available training data\n",
    "\n",
    "NOTE: we chose a very simple covariance/similarity function, $k(x,x')$, others exist with more hyper parameters, and flexibility."
   ]
  },
  {
   "cell_type": "code",
   "execution_count": 100,
   "metadata": {
    "collapsed": false,
    "deletable": true,
    "editable": true
   },
   "outputs": [],
   "source": [
    "plt.close(\"all\")\n",
    "import class_demos\n",
    "imp.reload(GP)\n",
    "\n",
    "## Specify the number of points sampled\n",
    "N=25    #start with 7\n",
    "l=0.0053  #start with 0.3\n",
    "\n",
    "## Generate data\n",
    "f=class_demos.testfuncgp() #same function from above\n",
    "xtrain=np.linspace(0,1,N)\n",
    "ytrain=f(xtrain)\n",
    "\n",
    "## Specify model\n",
    "GPmodel=GP.gpprocess()\n",
    "GPmodel.traindata(xtrain,ytrain)\n",
    "GPmodel.rbfbasis(l=l) #set length scale parameter and set similarity function\n",
    "GPmodel.mu=0 #simplify the problem\n",
    "GPmodel.trainGP()"
   ]
  },
  {
   "cell_type": "code",
   "execution_count": 103,
   "metadata": {
    "collapsed": false,
    "deletable": true,
    "editable": true
   },
   "outputs": [
    {
     "data": {
      "image/png": "[encoded data removed]",
      "text/plain": [
       "<matplotlib.figure.Figure at 0x110552a10>"
      ]
     },
     "execution_count": 103,
     "metadata": {},
     "output_type": "execute_result"
    }
   ],
   "source": [
    "# Plot true function values versus predictions from GP\n",
    "GPmodel.ftrue=f\n",
    "GPmodel.plottrue()"
   ]
  },
  {
   "cell_type": "markdown",
   "metadata": {
    "deletable": true,
    "editable": true
   },
   "source": [
    "## 3.5 Hyperparameter optimization for GPs\n",
    "* By casting the problem stochasically, a process followed similar from BLR allows us to formulate an expression of the likelihood of the hyperparameters for the given data. We continue to maximize the likelihood with respect to the parameters within the covariance function.\n",
    "\n",
    "\\begin{align*}\n",
    " ln\\ p(\\pmb{y}|\\pmb{X},l) = -\\frac{1}{2} y_iC_{ij}y_j-\\frac{1}{2}ln|\\pmb{K}|-\\frac{N}{2} ln(2\\pi)\n",
    "\\end{align*}"
   ]
  },
  {
   "cell_type": "code",
   "execution_count": 96,
   "metadata": {
    "collapsed": false,
    "deletable": true,
    "editable": true
   },
   "outputs": [
    {
     "name": "stdout",
     "output_type": "stream",
     "text": [
      "Optimization terminated successfully.\n",
      "         Current function value: -95.407791\n",
      "         Iterations: 11\n",
      "         Function evaluations: 22\n",
      "Updating Hyperparameters\n",
      "Training GP\n"
     ]
    },
    {
     "data": {
      "image/png": "[encoded data removed]",
      "text/plain": [
       "<matplotlib.figure.Figure at 0x10ffc7910>"
      ]
     },
     "metadata": {},
     "output_type": "display_data"
    },
    {
     "name": "stdout",
     "output_type": "stream",
     "text": [
      "Optimal Solution for hyperparameter l is 0.0053\n"
     ]
    }
   ],
   "source": [
    "plt.close(\"all\")\n",
    "# Maximize the logliklihood with respect the hyperparameter,l\n",
    "GPmodel.optimize()\n",
    "print('Optimal Solution for hyperparameter l is %.4f' % GPmodel.l)"
   ]
  },
  {
   "cell_type": "code",
   "execution_count": 45,
   "metadata": {
    "collapsed": false,
    "deletable": true,
    "editable": true
   },
   "outputs": [
    {
     "data": {
      "text/plain": [
       "0.02185546874999923"
      ]
     },
     "execution_count": 45,
     "metadata": {},
     "output_type": "execute_result"
    }
   ],
   "source": [
    "GPmodel.l #check for update"
   ]
  },
  {
   "cell_type": "markdown",
   "metadata": {
    "deletable": true,
    "editable": true
   },
   "source": [
    "* Note: we actually minimize the negative logliklihood for simplicity of algo implementation, this is why function value is negative"
   ]
  }
 ],
 "metadata": {
  "kernelspec": {
   "display_name": "Python 2",
   "language": "python",
   "name": "python2"
  },
  "language_info": {
   "codemirror_mode": {
    "name": "ipython",
    "version": 2
   },
   "file_extension": ".py",
   "mimetype": "text/x-python",
   "name": "python",
   "nbconvert_exporter": "python",
   "pygments_lexer": "ipython2",
   "version": "2.7.13"
  }
 },
 "nbformat": 4,
 "nbformat_minor": 2
}
